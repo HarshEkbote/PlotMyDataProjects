{
  "nbformat": 4,
  "nbformat_minor": 0,
  "metadata": {
    "colab": {
      "provenance": []
    },
    "kernelspec": {
      "name": "python3",
      "display_name": "Python 3"
    },
    "language_info": {
      "name": "python"
    }
  },
  "cells": [
    {
      "cell_type": "code",
      "source": [],
      "metadata": {
        "colab": {
          "base_uri": "https://localhost:8080/"
        },
        "id": "fSiBUECk4xvt",
        "outputId": "58bd36fe-0a4b-4918-e44c-c0c3b21afa7b"
      },
      "execution_count": 4,
      "outputs": [
        {
          "output_type": "stream",
          "name": "stdout",
          "text": [
            "\u001b[31mERROR: Could not find a version that satisfies the requirement keras.preprocessing.sequence (from versions: none)\u001b[0m\u001b[31m\n",
            "\u001b[0m\u001b[31mERROR: No matching distribution found for keras.preprocessing.sequence\u001b[0m\u001b[31m\n",
            "\u001b[0m"
          ]
        }
      ]
    },
    {
      "cell_type": "code",
      "execution_count": 8,
      "metadata": {
        "id": "qcNk1Wn8SbXO"
      },
      "outputs": [],
      "source": [
        "import pickle\n",
        "import numpy as np\n",
        "from tensorflow.keras.utils import pad_sequences\n",
        "from keras.preprocessing.text import Tokenizer\n",
        "from keras.models import Sequential,Model\n",
        "from tensorflow.keras.layers import Embedding\n",
        "from keras.layers import Input,Activation,Dense,Permute,Dropout,add,dot,concatenate,LSTM\n",
        "import matplotlib.pyplot as plt"
      ]
    },
    {
      "cell_type": "code",
      "source": [
        "with open('/content/drive/MyDrive/AI And DataScience/PlotMyData Projects/train_qa-220120-145526.txt','rb')as fp:\n",
        "  train_data=pickle.load(fp)"
      ],
      "metadata": {
        "id": "60XhuTGfS6k_"
      },
      "execution_count": 10,
      "outputs": []
    },
    {
      "cell_type": "code",
      "source": [
        "with open('/content/drive/MyDrive/AI And DataScience/PlotMyData Projects/test_qa-220120-145430.txt','rb')as fp:\n",
        "  test_data=pickle.load(fp)\n"
      ],
      "metadata": {
        "id": "I0V66FcOTNZm"
      },
      "execution_count": 11,
      "outputs": []
    },
    {
      "cell_type": "code",
      "source": [
        "#Setup vocablurary\n",
        "vocab=set()\n",
        "all_data=train_data+test_data\n",
        "for story,question,answer in all_data:\n",
        "  vocab=vocab.union(set(story))\n",
        "  vocab=vocab.union(set(question))\n",
        "vocab.add('yes')\n",
        "vocab.add('no')\n",
        "vocab_len=len(vocab)+1\n",
        "#vocab_len"
      ],
      "metadata": {
        "id": "i8gpUqudTrQP"
      },
      "execution_count": 12,
      "outputs": []
    },
    {
      "cell_type": "code",
      "source": [
        "max_sty_len=max([len(data[0])for data in all_data])\n",
        "max_que_len=max([len(data[1])for data in all_data])"
      ],
      "metadata": {
        "id": "4nIpMJXZUsQi"
      },
      "execution_count": 13,
      "outputs": []
    },
    {
      "cell_type": "code",
      "source": [
        "tokenizer=Tokenizer(filters=[])\n",
        "tokenizer.fit_on_texts(vocab)\n",
        "tokenizer.word_index"
      ],
      "metadata": {
        "colab": {
          "base_uri": "https://localhost:8080/"
        },
        "id": "Mt0c4MwJVpLN",
        "outputId": "242ccb9e-6f9b-40da-e7fe-ded2416c4f0b"
      },
      "execution_count": 14,
      "outputs": [
        {
          "output_type": "execute_result",
          "data": {
            "text/plain": [
              "{'moved': 1,\n",
              " 'john': 2,\n",
              " 'sandra': 3,\n",
              " 'took': 4,\n",
              " 'up': 5,\n",
              " '.': 6,\n",
              " 'office': 7,\n",
              " 'travelled': 8,\n",
              " 'milk': 9,\n",
              " 'discarded': 10,\n",
              " 'hallway': 11,\n",
              " 'journeyed': 12,\n",
              " '?': 13,\n",
              " 'garden': 14,\n",
              " 'there': 15,\n",
              " 'picked': 16,\n",
              " 'went': 17,\n",
              " 'grabbed': 18,\n",
              " 'bedroom': 19,\n",
              " 'bathroom': 20,\n",
              " 'is': 21,\n",
              " 'left': 22,\n",
              " 'dropped': 23,\n",
              " 'daniel': 24,\n",
              " 'got': 25,\n",
              " 'down': 26,\n",
              " 'in': 27,\n",
              " 'football': 28,\n",
              " 'no': 29,\n",
              " 'the': 30,\n",
              " 'put': 31,\n",
              " 'yes': 32,\n",
              " 'to': 33,\n",
              " 'kitchen': 34,\n",
              " 'back': 35,\n",
              " 'apple': 36,\n",
              " 'mary': 37}"
            ]
          },
          "metadata": {},
          "execution_count": 14
        }
      ]
    },
    {
      "cell_type": "code",
      "source": [
        "train_story_text=[]\n",
        "train_question_text=[]\n",
        "train_answer=[]\n",
        "for story,question,answer in train_data:\n",
        "  train_story_text.append(story)\n",
        "  train_question_text.append(question)\n",
        "train_story_seq=tokenizer.texts_to_sequences(train_story_text)\n",
        "#len(train_story_text)\n",
        "#len(train_story_seq)"
      ],
      "metadata": {
        "id": "V-XEdreBWG9_"
      },
      "execution_count": 15,
      "outputs": []
    },
    {
      "cell_type": "code",
      "source": [
        "def vectorize_stry(data,word_index=tokenizer.word_index,max_sty_len=max_sty_len,max_que_len=max_que_len):\n",
        "  X=[]\n",
        "  Xq=[]\n",
        "  Y=[]\n",
        "  for story,query,answer in data:\n",
        "    x=[word_index[word.lower()] for word in story]\n",
        "    xq=[word_index[word.lower()] for word in query]\n",
        "    y=np.zeros(len(word_index)+1)\n",
        "    y[word_index[answer]]=1\n",
        "\n",
        "    X.append(x)\n",
        "    Xq.append(xq)\n",
        "    Y.append(y)\n",
        "\n",
        "  return(pad_sequences(X,maxlen=max_sty_len),\n",
        "         pad_sequences(Xq,maxlen=max_que_len),\n",
        "         np.array(Y))"
      ],
      "metadata": {
        "id": "xe1_qyJ4Wu7t"
      },
      "execution_count": 16,
      "outputs": []
    },
    {
      "cell_type": "code",
      "source": [
        "inputs_train,query_train,answer_train=vectorize_stry(train_data)\n",
        "inputs_test,query_test,answer_test=vectorize_stry(test_data)"
      ],
      "metadata": {
        "id": "N_aByzL7Zdp4"
      },
      "execution_count": 17,
      "outputs": []
    },
    {
      "cell_type": "code",
      "source": [
        "input_seq=Input((max_sty_len,))\n",
        "question=Input((max_que_len,))\n"
      ],
      "metadata": {
        "id": "D8GVz_4jZ_-j"
      },
      "execution_count": 18,
      "outputs": []
    },
    {
      "cell_type": "code",
      "source": [
        "input_encoder_m=Sequential()\n",
        "input_encoder_m.add(Embedding(input_dim=vocab_len,output_dim=64))\n",
        "input_encoder_m.add(Dropout(0.3))"
      ],
      "metadata": {
        "id": "IZH28FuLcpdZ"
      },
      "execution_count": 19,
      "outputs": []
    },
    {
      "cell_type": "code",
      "source": [
        "input_encoder_c=Sequential()\n",
        "input_encoder_c.add(Embedding(input_dim=vocab_len,output_dim=max_que_len))\n",
        "input_encoder_c.add(Dropout(0.3))"
      ],
      "metadata": {
        "id": "uEfns7yedSqG"
      },
      "execution_count": 20,
      "outputs": []
    },
    {
      "cell_type": "code",
      "source": [
        "question_encoder=Sequential()\n",
        "question_encoder.add(Embedding(input_dim=vocab_len,output_dim=64,input_length=max_que_len))\n",
        "question_encoder.add(Dropout(0.3))"
      ],
      "metadata": {
        "id": "cysN9rZGdkf6"
      },
      "execution_count": 21,
      "outputs": []
    },
    {
      "cell_type": "code",
      "source": [
        "input_encoded_m=input_encoder_m(input_seq)\n",
        "input_encoded_c=input_encoder_c(input_seq)\n",
        "question_encoded=question_encoder(question)"
      ],
      "metadata": {
        "id": "Q74FmtETd8Af"
      },
      "execution_count": 22,
      "outputs": []
    },
    {
      "cell_type": "code",
      "source": [
        "match=dot([input_encoded_m,question_encoded],axes=(2,2))\n",
        "match=Activation('softmax')(match)"
      ],
      "metadata": {
        "id": "IbgOf3Wpe71j"
      },
      "execution_count": 23,
      "outputs": []
    },
    {
      "cell_type": "code",
      "source": [
        "response=add([match,input_encoded_c])\n",
        "response=Permute((2,1))(response)"
      ],
      "metadata": {
        "id": "ADwA_ft1kJ8v"
      },
      "execution_count": 24,
      "outputs": []
    },
    {
      "cell_type": "code",
      "source": [
        "answer=concatenate([response,question_encoded])\n",
        "answer=LSTM(32)(answer)\n",
        "answer=Dropout(0.5)(answer)\n",
        "answer=Dense(vocab_len)(answer)\n",
        "answer=Activation('softmax')(answer)\n",
        "model=Model([input_seq,question],answer)\n",
        "model.compile(optimizer='rmsprop',loss='categorical_crossentropy',metrics=['accuracy'])\n",
        "model.summary()"
      ],
      "metadata": {
        "colab": {
          "base_uri": "https://localhost:8080/"
        },
        "id": "4ZTZ5kwtkXwA",
        "outputId": "45dddd08-7978-43f3-d884-4a687a2270b8"
      },
      "execution_count": 25,
      "outputs": [
        {
          "output_type": "stream",
          "name": "stdout",
          "text": [
            "Model: \"model\"\n",
            "__________________________________________________________________________________________________\n",
            " Layer (type)                   Output Shape         Param #     Connected to                     \n",
            "==================================================================================================\n",
            " input_1 (InputLayer)           [(None, 156)]        0           []                               \n",
            "                                                                                                  \n",
            " input_2 (InputLayer)           [(None, 6)]          0           []                               \n",
            "                                                                                                  \n",
            " sequential (Sequential)        (None, None, 64)     2432        ['input_1[0][0]']                \n",
            "                                                                                                  \n",
            " sequential_2 (Sequential)      (None, 6, 64)        2432        ['input_2[0][0]']                \n",
            "                                                                                                  \n",
            " dot (Dot)                      (None, 156, 6)       0           ['sequential[0][0]',             \n",
            "                                                                  'sequential_2[0][0]']           \n",
            "                                                                                                  \n",
            " activation (Activation)        (None, 156, 6)       0           ['dot[0][0]']                    \n",
            "                                                                                                  \n",
            " sequential_1 (Sequential)      (None, None, 6)      228         ['input_1[0][0]']                \n",
            "                                                                                                  \n",
            " add (Add)                      (None, 156, 6)       0           ['activation[0][0]',             \n",
            "                                                                  'sequential_1[0][0]']           \n",
            "                                                                                                  \n",
            " permute (Permute)              (None, 6, 156)       0           ['add[0][0]']                    \n",
            "                                                                                                  \n",
            " concatenate (Concatenate)      (None, 6, 220)       0           ['permute[0][0]',                \n",
            "                                                                  'sequential_2[0][0]']           \n",
            "                                                                                                  \n",
            " lstm (LSTM)                    (None, 32)           32384       ['concatenate[0][0]']            \n",
            "                                                                                                  \n",
            " dropout_3 (Dropout)            (None, 32)           0           ['lstm[0][0]']                   \n",
            "                                                                                                  \n",
            " dense (Dense)                  (None, 38)           1254        ['dropout_3[0][0]']              \n",
            "                                                                                                  \n",
            " activation_1 (Activation)      (None, 38)           0           ['dense[0][0]']                  \n",
            "                                                                                                  \n",
            "==================================================================================================\n",
            "Total params: 38,730\n",
            "Trainable params: 38,730\n",
            "Non-trainable params: 0\n",
            "__________________________________________________________________________________________________\n"
          ]
        }
      ]
    },
    {
      "cell_type": "code",
      "source": [
        "history=model.fit([inputs_train,query_train],answer_train,\n",
        "                  batch_size=32, epochs=150,\n",
        "                  validation_data=([inputs_test,query_test],answer_test))"
      ],
      "metadata": {
        "colab": {
          "base_uri": "https://localhost:8080/"
        },
        "id": "yzJhS4Polqgr",
        "outputId": "6a198073-13c9-4b6f-e434-131d46c9d104"
      },
      "execution_count": 26,
      "outputs": [
        {
          "output_type": "stream",
          "name": "stdout",
          "text": [
            "Epoch 1/150\n",
            "313/313 [==============================] - 11s 25ms/step - loss: 0.8934 - accuracy: 0.5011 - val_loss: 0.6958 - val_accuracy: 0.4970\n",
            "Epoch 2/150\n",
            "313/313 [==============================] - 6s 19ms/step - loss: 0.7053 - accuracy: 0.4921 - val_loss: 0.6946 - val_accuracy: 0.5030\n",
            "Epoch 3/150\n",
            "313/313 [==============================] - 6s 19ms/step - loss: 0.6970 - accuracy: 0.5002 - val_loss: 0.6936 - val_accuracy: 0.4970\n",
            "Epoch 4/150\n",
            "313/313 [==============================] - 7s 22ms/step - loss: 0.6968 - accuracy: 0.5038 - val_loss: 0.6947 - val_accuracy: 0.4970\n",
            "Epoch 5/150\n",
            "313/313 [==============================] - 8s 27ms/step - loss: 0.6950 - accuracy: 0.4986 - val_loss: 0.6951 - val_accuracy: 0.4970\n",
            "Epoch 6/150\n",
            "313/313 [==============================] - 7s 22ms/step - loss: 0.6957 - accuracy: 0.4981 - val_loss: 0.6941 - val_accuracy: 0.5030\n",
            "Epoch 7/150\n",
            "313/313 [==============================] - 6s 19ms/step - loss: 0.6953 - accuracy: 0.5025 - val_loss: 0.6932 - val_accuracy: 0.5030\n",
            "Epoch 8/150\n",
            "313/313 [==============================] - 9s 27ms/step - loss: 0.6952 - accuracy: 0.5038 - val_loss: 0.6964 - val_accuracy: 0.4970\n",
            "Epoch 9/150\n",
            "313/313 [==============================] - 9s 30ms/step - loss: 0.6955 - accuracy: 0.4917 - val_loss: 0.6933 - val_accuracy: 0.5030\n",
            "Epoch 10/150\n",
            "313/313 [==============================] - 7s 22ms/step - loss: 0.6953 - accuracy: 0.4947 - val_loss: 0.6932 - val_accuracy: 0.4970\n",
            "Epoch 11/150\n",
            "313/313 [==============================] - 6s 18ms/step - loss: 0.6951 - accuracy: 0.5024 - val_loss: 0.6959 - val_accuracy: 0.5030\n",
            "Epoch 12/150\n",
            "313/313 [==============================] - 7s 24ms/step - loss: 0.6951 - accuracy: 0.5000 - val_loss: 0.6947 - val_accuracy: 0.5030\n",
            "Epoch 13/150\n",
            "313/313 [==============================] - 6s 18ms/step - loss: 0.6951 - accuracy: 0.4987 - val_loss: 0.6938 - val_accuracy: 0.4970\n",
            "Epoch 14/150\n",
            "313/313 [==============================] - 8s 24ms/step - loss: 0.6955 - accuracy: 0.4934 - val_loss: 0.6956 - val_accuracy: 0.5030\n",
            "Epoch 15/150\n",
            "313/313 [==============================] - 6s 18ms/step - loss: 0.6948 - accuracy: 0.5027 - val_loss: 0.6938 - val_accuracy: 0.5030\n",
            "Epoch 16/150\n",
            "313/313 [==============================] - 7s 23ms/step - loss: 0.6951 - accuracy: 0.4951 - val_loss: 0.6950 - val_accuracy: 0.4970\n",
            "Epoch 17/150\n",
            "313/313 [==============================] - 6s 20ms/step - loss: 0.6954 - accuracy: 0.4904 - val_loss: 0.6945 - val_accuracy: 0.5030\n",
            "Epoch 18/150\n",
            "313/313 [==============================] - 6s 19ms/step - loss: 0.6947 - accuracy: 0.5004 - val_loss: 0.6932 - val_accuracy: 0.4970\n",
            "Epoch 19/150\n",
            "313/313 [==============================] - 7s 23ms/step - loss: 0.6948 - accuracy: 0.5006 - val_loss: 0.6933 - val_accuracy: 0.5030\n",
            "Epoch 20/150\n",
            "313/313 [==============================] - 6s 18ms/step - loss: 0.6947 - accuracy: 0.5077 - val_loss: 0.6946 - val_accuracy: 0.5030\n",
            "Epoch 21/150\n",
            "313/313 [==============================] - 7s 24ms/step - loss: 0.6949 - accuracy: 0.4980 - val_loss: 0.6947 - val_accuracy: 0.4970\n",
            "Epoch 22/150\n",
            "313/313 [==============================] - 6s 18ms/step - loss: 0.6957 - accuracy: 0.4999 - val_loss: 0.6934 - val_accuracy: 0.4970\n",
            "Epoch 23/150\n",
            "313/313 [==============================] - 8s 24ms/step - loss: 0.6949 - accuracy: 0.4983 - val_loss: 0.6932 - val_accuracy: 0.4970\n",
            "Epoch 24/150\n",
            "313/313 [==============================] - 6s 18ms/step - loss: 0.6955 - accuracy: 0.4923 - val_loss: 0.6941 - val_accuracy: 0.4970\n",
            "Epoch 25/150\n",
            "313/313 [==============================] - 7s 22ms/step - loss: 0.6950 - accuracy: 0.4978 - val_loss: 0.6931 - val_accuracy: 0.5030\n",
            "Epoch 26/150\n",
            "313/313 [==============================] - 6s 20ms/step - loss: 0.6951 - accuracy: 0.5015 - val_loss: 0.6932 - val_accuracy: 0.5030\n",
            "Epoch 27/150\n",
            "313/313 [==============================] - 6s 18ms/step - loss: 0.6950 - accuracy: 0.4954 - val_loss: 0.6936 - val_accuracy: 0.4970\n",
            "Epoch 28/150\n",
            "313/313 [==============================] - 8s 24ms/step - loss: 0.6952 - accuracy: 0.4987 - val_loss: 0.6932 - val_accuracy: 0.5030\n",
            "Epoch 29/150\n",
            "313/313 [==============================] - 6s 19ms/step - loss: 0.6946 - accuracy: 0.5030 - val_loss: 0.6937 - val_accuracy: 0.5030\n",
            "Epoch 30/150\n",
            "313/313 [==============================] - 8s 24ms/step - loss: 0.6952 - accuracy: 0.5004 - val_loss: 0.6951 - val_accuracy: 0.5030\n",
            "Epoch 31/150\n",
            "313/313 [==============================] - 6s 18ms/step - loss: 0.6945 - accuracy: 0.4994 - val_loss: 0.6934 - val_accuracy: 0.5030\n",
            "Epoch 32/150\n",
            "313/313 [==============================] - 8s 24ms/step - loss: 0.6946 - accuracy: 0.5024 - val_loss: 0.6933 - val_accuracy: 0.4970\n",
            "Epoch 33/150\n",
            "313/313 [==============================] - 6s 18ms/step - loss: 0.6945 - accuracy: 0.5052 - val_loss: 0.6944 - val_accuracy: 0.4970\n",
            "Epoch 34/150\n",
            "313/313 [==============================] - 7s 22ms/step - loss: 0.6953 - accuracy: 0.4966 - val_loss: 0.6945 - val_accuracy: 0.5030\n",
            "Epoch 35/150\n",
            "313/313 [==============================] - 8s 27ms/step - loss: 0.6951 - accuracy: 0.4941 - val_loss: 0.6932 - val_accuracy: 0.5030\n",
            "Epoch 36/150\n",
            "313/313 [==============================] - 6s 18ms/step - loss: 0.6947 - accuracy: 0.4957 - val_loss: 0.6946 - val_accuracy: 0.4970\n",
            "Epoch 37/150\n",
            "313/313 [==============================] - 7s 24ms/step - loss: 0.6949 - accuracy: 0.5072 - val_loss: 0.6947 - val_accuracy: 0.5030\n",
            "Epoch 38/150\n",
            "313/313 [==============================] - 6s 18ms/step - loss: 0.6947 - accuracy: 0.4992 - val_loss: 0.6936 - val_accuracy: 0.4970\n",
            "Epoch 39/150\n",
            "313/313 [==============================] - 7s 23ms/step - loss: 0.6954 - accuracy: 0.4938 - val_loss: 0.6934 - val_accuracy: 0.4970\n",
            "Epoch 40/150\n",
            "313/313 [==============================] - 6s 19ms/step - loss: 0.6947 - accuracy: 0.5078 - val_loss: 0.6933 - val_accuracy: 0.5030\n",
            "Epoch 41/150\n",
            "313/313 [==============================] - 6s 20ms/step - loss: 0.6942 - accuracy: 0.5081 - val_loss: 0.6982 - val_accuracy: 0.4970\n",
            "Epoch 42/150\n",
            "313/313 [==============================] - 7s 22ms/step - loss: 0.6957 - accuracy: 0.4888 - val_loss: 0.6933 - val_accuracy: 0.5030\n",
            "Epoch 43/150\n",
            "313/313 [==============================] - 6s 18ms/step - loss: 0.6947 - accuracy: 0.4986 - val_loss: 0.6939 - val_accuracy: 0.5030\n",
            "Epoch 44/150\n",
            "313/313 [==============================] - 8s 24ms/step - loss: 0.6947 - accuracy: 0.4952 - val_loss: 0.6932 - val_accuracy: 0.4970\n",
            "Epoch 45/150\n",
            "313/313 [==============================] - 6s 18ms/step - loss: 0.6951 - accuracy: 0.4917 - val_loss: 0.6931 - val_accuracy: 0.5030\n",
            "Epoch 46/150\n",
            "313/313 [==============================] - 8s 24ms/step - loss: 0.6947 - accuracy: 0.5002 - val_loss: 0.6932 - val_accuracy: 0.5030\n",
            "Epoch 47/150\n",
            "313/313 [==============================] - 6s 18ms/step - loss: 0.6947 - accuracy: 0.5043 - val_loss: 0.6934 - val_accuracy: 0.5030\n",
            "Epoch 48/150\n",
            "313/313 [==============================] - 7s 22ms/step - loss: 0.6946 - accuracy: 0.5000 - val_loss: 0.6933 - val_accuracy: 0.4970\n",
            "Epoch 49/150\n",
            "313/313 [==============================] - 6s 20ms/step - loss: 0.6949 - accuracy: 0.4996 - val_loss: 0.7016 - val_accuracy: 0.4970\n",
            "Epoch 50/150\n",
            "313/313 [==============================] - 6s 19ms/step - loss: 0.6945 - accuracy: 0.4979 - val_loss: 0.6939 - val_accuracy: 0.4970\n",
            "Epoch 51/150\n",
            "313/313 [==============================] - 7s 24ms/step - loss: 0.6946 - accuracy: 0.5053 - val_loss: 0.6939 - val_accuracy: 0.4970\n",
            "Epoch 52/150\n",
            "313/313 [==============================] - 6s 18ms/step - loss: 0.6947 - accuracy: 0.5022 - val_loss: 0.6940 - val_accuracy: 0.4970\n",
            "Epoch 53/150\n",
            "313/313 [==============================] - 8s 25ms/step - loss: 0.6943 - accuracy: 0.4995 - val_loss: 0.6934 - val_accuracy: 0.4910\n",
            "Epoch 54/150\n",
            "313/313 [==============================] - 6s 18ms/step - loss: 0.6956 - accuracy: 0.4941 - val_loss: 0.6946 - val_accuracy: 0.4970\n",
            "Epoch 55/150\n",
            "313/313 [==============================] - 8s 24ms/step - loss: 0.6945 - accuracy: 0.5013 - val_loss: 0.6953 - val_accuracy: 0.4970\n",
            "Epoch 56/150\n",
            "313/313 [==============================] - 6s 18ms/step - loss: 0.6941 - accuracy: 0.5130 - val_loss: 0.6948 - val_accuracy: 0.4970\n",
            "Epoch 57/150\n",
            "313/313 [==============================] - 7s 23ms/step - loss: 0.6939 - accuracy: 0.5084 - val_loss: 0.6980 - val_accuracy: 0.4970\n",
            "Epoch 58/150\n",
            "313/313 [==============================] - 6s 20ms/step - loss: 0.6944 - accuracy: 0.5117 - val_loss: 0.6946 - val_accuracy: 0.4940\n",
            "Epoch 59/150\n",
            "313/313 [==============================] - 6s 20ms/step - loss: 0.6937 - accuracy: 0.5044 - val_loss: 0.6935 - val_accuracy: 0.4840\n",
            "Epoch 60/150\n",
            "313/313 [==============================] - 7s 23ms/step - loss: 0.6941 - accuracy: 0.5094 - val_loss: 0.6938 - val_accuracy: 0.4830\n",
            "Epoch 61/150\n",
            "313/313 [==============================] - 6s 20ms/step - loss: 0.6935 - accuracy: 0.5098 - val_loss: 0.6965 - val_accuracy: 0.5060\n",
            "Epoch 62/150\n",
            "313/313 [==============================] - 8s 24ms/step - loss: 0.6933 - accuracy: 0.5123 - val_loss: 0.6944 - val_accuracy: 0.4850\n",
            "Epoch 63/150\n",
            "313/313 [==============================] - 6s 19ms/step - loss: 0.6911 - accuracy: 0.5237 - val_loss: 0.6958 - val_accuracy: 0.5060\n",
            "Epoch 64/150\n",
            "313/313 [==============================] - 8s 24ms/step - loss: 0.6906 - accuracy: 0.5153 - val_loss: 0.6943 - val_accuracy: 0.5090\n",
            "Epoch 65/150\n",
            "313/313 [==============================] - 8s 25ms/step - loss: 0.6846 - accuracy: 0.5379 - val_loss: 0.6848 - val_accuracy: 0.5750\n",
            "Epoch 66/150\n",
            "313/313 [==============================] - 8s 27ms/step - loss: 0.6733 - accuracy: 0.5680 - val_loss: 0.6663 - val_accuracy: 0.6140\n",
            "Epoch 67/150\n",
            "313/313 [==============================] - 6s 21ms/step - loss: 0.6615 - accuracy: 0.5944 - val_loss: 0.6461 - val_accuracy: 0.6560\n",
            "Epoch 68/150\n",
            "313/313 [==============================] - 8s 27ms/step - loss: 0.6524 - accuracy: 0.6183 - val_loss: 0.6306 - val_accuracy: 0.6550\n",
            "Epoch 69/150\n",
            "313/313 [==============================] - 6s 20ms/step - loss: 0.6436 - accuracy: 0.6378 - val_loss: 0.6179 - val_accuracy: 0.6680\n",
            "Epoch 70/150\n",
            "313/313 [==============================] - 8s 26ms/step - loss: 0.6355 - accuracy: 0.6384 - val_loss: 0.6181 - val_accuracy: 0.6630\n",
            "Epoch 71/150\n",
            "313/313 [==============================] - 6s 19ms/step - loss: 0.6272 - accuracy: 0.6573 - val_loss: 0.6018 - val_accuracy: 0.6790\n",
            "Epoch 72/150\n",
            "313/313 [==============================] - 8s 25ms/step - loss: 0.6234 - accuracy: 0.6548 - val_loss: 0.5970 - val_accuracy: 0.6800\n",
            "Epoch 73/150\n",
            "313/313 [==============================] - 6s 18ms/step - loss: 0.6133 - accuracy: 0.6739 - val_loss: 0.5807 - val_accuracy: 0.6970\n",
            "Epoch 74/150\n",
            "313/313 [==============================] - 7s 21ms/step - loss: 0.6057 - accuracy: 0.6799 - val_loss: 0.5691 - val_accuracy: 0.7100\n",
            "Epoch 75/150\n",
            "313/313 [==============================] - 6s 20ms/step - loss: 0.5943 - accuracy: 0.6956 - val_loss: 0.5748 - val_accuracy: 0.7060\n",
            "Epoch 76/150\n",
            "313/313 [==============================] - 6s 18ms/step - loss: 0.5853 - accuracy: 0.7021 - val_loss: 0.5525 - val_accuracy: 0.7200\n",
            "Epoch 77/150\n",
            "313/313 [==============================] - 8s 25ms/step - loss: 0.5832 - accuracy: 0.7071 - val_loss: 0.5530 - val_accuracy: 0.7160\n",
            "Epoch 78/150\n",
            "313/313 [==============================] - 6s 19ms/step - loss: 0.5724 - accuracy: 0.7124 - val_loss: 0.5414 - val_accuracy: 0.7310\n",
            "Epoch 79/150\n",
            "313/313 [==============================] - 8s 24ms/step - loss: 0.5632 - accuracy: 0.7310 - val_loss: 0.5411 - val_accuracy: 0.7360\n",
            "Epoch 80/150\n",
            "313/313 [==============================] - 6s 19ms/step - loss: 0.5573 - accuracy: 0.7244 - val_loss: 0.5477 - val_accuracy: 0.7260\n",
            "Epoch 81/150\n",
            "313/313 [==============================] - 8s 25ms/step - loss: 0.5509 - accuracy: 0.7376 - val_loss: 0.5137 - val_accuracy: 0.7420\n",
            "Epoch 82/150\n",
            "313/313 [==============================] - 6s 19ms/step - loss: 0.5439 - accuracy: 0.7421 - val_loss: 0.5039 - val_accuracy: 0.7600\n",
            "Epoch 83/150\n",
            "313/313 [==============================] - 7s 23ms/step - loss: 0.5286 - accuracy: 0.7468 - val_loss: 0.4907 - val_accuracy: 0.7660\n",
            "Epoch 84/150\n",
            "313/313 [==============================] - 7s 21ms/step - loss: 0.5179 - accuracy: 0.7584 - val_loss: 0.4898 - val_accuracy: 0.7670\n",
            "Epoch 85/150\n",
            "313/313 [==============================] - 6s 20ms/step - loss: 0.5190 - accuracy: 0.7573 - val_loss: 0.4825 - val_accuracy: 0.7880\n",
            "Epoch 86/150\n",
            "313/313 [==============================] - 7s 22ms/step - loss: 0.5132 - accuracy: 0.7620 - val_loss: 0.4764 - val_accuracy: 0.7820\n",
            "Epoch 87/150\n",
            "313/313 [==============================] - 6s 19ms/step - loss: 0.4948 - accuracy: 0.7741 - val_loss: 0.4666 - val_accuracy: 0.7820\n",
            "Epoch 88/150\n",
            "313/313 [==============================] - 7s 23ms/step - loss: 0.4937 - accuracy: 0.7727 - val_loss: 0.4696 - val_accuracy: 0.7810\n",
            "Epoch 89/150\n",
            "313/313 [==============================] - 6s 19ms/step - loss: 0.4832 - accuracy: 0.7780 - val_loss: 0.4668 - val_accuracy: 0.7890\n",
            "Epoch 90/150\n",
            "313/313 [==============================] - 7s 24ms/step - loss: 0.4733 - accuracy: 0.7850 - val_loss: 0.4579 - val_accuracy: 0.7940\n",
            "Epoch 91/150\n",
            "313/313 [==============================] - 6s 19ms/step - loss: 0.4706 - accuracy: 0.7902 - val_loss: 0.4469 - val_accuracy: 0.7920\n",
            "Epoch 92/150\n",
            "313/313 [==============================] - 7s 24ms/step - loss: 0.4639 - accuracy: 0.7890 - val_loss: 0.4407 - val_accuracy: 0.7980\n",
            "Epoch 93/150\n",
            "313/313 [==============================] - 6s 19ms/step - loss: 0.4574 - accuracy: 0.7892 - val_loss: 0.4391 - val_accuracy: 0.7940\n",
            "Epoch 94/150\n",
            "313/313 [==============================] - 8s 26ms/step - loss: 0.4491 - accuracy: 0.7950 - val_loss: 0.4187 - val_accuracy: 0.8060\n",
            "Epoch 95/150\n",
            "313/313 [==============================] - 7s 22ms/step - loss: 0.4449 - accuracy: 0.7958 - val_loss: 0.4392 - val_accuracy: 0.7880\n",
            "Epoch 96/150\n",
            "313/313 [==============================] - 7s 24ms/step - loss: 0.4388 - accuracy: 0.8026 - val_loss: 0.4245 - val_accuracy: 0.8000\n",
            "Epoch 97/150\n",
            "313/313 [==============================] - 6s 19ms/step - loss: 0.4339 - accuracy: 0.8029 - val_loss: 0.4316 - val_accuracy: 0.7860\n",
            "Epoch 98/150\n",
            "313/313 [==============================] - 7s 23ms/step - loss: 0.4315 - accuracy: 0.8089 - val_loss: 0.4287 - val_accuracy: 0.7970\n",
            "Epoch 99/150\n",
            "313/313 [==============================] - 7s 22ms/step - loss: 0.4267 - accuracy: 0.8071 - val_loss: 0.4174 - val_accuracy: 0.8080\n",
            "Epoch 100/150\n",
            "313/313 [==============================] - 11s 35ms/step - loss: 0.4213 - accuracy: 0.8112 - val_loss: 0.4230 - val_accuracy: 0.7980\n",
            "Epoch 101/150\n",
            "313/313 [==============================] - 6s 19ms/step - loss: 0.4242 - accuracy: 0.8113 - val_loss: 0.4189 - val_accuracy: 0.8030\n",
            "Epoch 102/150\n",
            "313/313 [==============================] - 7s 24ms/step - loss: 0.4153 - accuracy: 0.8154 - val_loss: 0.4312 - val_accuracy: 0.8060\n",
            "Epoch 103/150\n",
            "313/313 [==============================] - 6s 19ms/step - loss: 0.4126 - accuracy: 0.8160 - val_loss: 0.4208 - val_accuracy: 0.8040\n",
            "Epoch 104/150\n",
            "313/313 [==============================] - 7s 23ms/step - loss: 0.4067 - accuracy: 0.8177 - val_loss: 0.4142 - val_accuracy: 0.8150\n",
            "Epoch 105/150\n",
            "313/313 [==============================] - 6s 20ms/step - loss: 0.3968 - accuracy: 0.8239 - val_loss: 0.4309 - val_accuracy: 0.8050\n",
            "Epoch 106/150\n",
            "313/313 [==============================] - 7s 22ms/step - loss: 0.4008 - accuracy: 0.8230 - val_loss: 0.4382 - val_accuracy: 0.7900\n",
            "Epoch 107/150\n",
            "313/313 [==============================] - 6s 21ms/step - loss: 0.3951 - accuracy: 0.8241 - val_loss: 0.4332 - val_accuracy: 0.8010\n",
            "Epoch 108/150\n",
            "313/313 [==============================] - 6s 20ms/step - loss: 0.3970 - accuracy: 0.8253 - val_loss: 0.4342 - val_accuracy: 0.8110\n",
            "Epoch 109/150\n",
            "313/313 [==============================] - 7s 22ms/step - loss: 0.3902 - accuracy: 0.8259 - val_loss: 0.4215 - val_accuracy: 0.8080\n",
            "Epoch 110/150\n",
            "313/313 [==============================] - 6s 19ms/step - loss: 0.3897 - accuracy: 0.8287 - val_loss: 0.4186 - val_accuracy: 0.8160\n",
            "Epoch 111/150\n",
            "313/313 [==============================] - 7s 23ms/step - loss: 0.3851 - accuracy: 0.8292 - val_loss: 0.4043 - val_accuracy: 0.8290\n",
            "Epoch 112/150\n",
            "313/313 [==============================] - 6s 19ms/step - loss: 0.3779 - accuracy: 0.8328 - val_loss: 0.4012 - val_accuracy: 0.8200\n",
            "Epoch 113/150\n",
            "313/313 [==============================] - 8s 24ms/step - loss: 0.3713 - accuracy: 0.8390 - val_loss: 0.4692 - val_accuracy: 0.8030\n",
            "Epoch 114/150\n",
            "313/313 [==============================] - 6s 19ms/step - loss: 0.3738 - accuracy: 0.8413 - val_loss: 0.4375 - val_accuracy: 0.8140\n",
            "Epoch 115/150\n",
            "313/313 [==============================] - 7s 24ms/step - loss: 0.3672 - accuracy: 0.8433 - val_loss: 0.4121 - val_accuracy: 0.8200\n",
            "Epoch 116/150\n",
            "313/313 [==============================] - 6s 19ms/step - loss: 0.3685 - accuracy: 0.8420 - val_loss: 0.4248 - val_accuracy: 0.8170\n",
            "Epoch 117/150\n",
            "313/313 [==============================] - 7s 24ms/step - loss: 0.3641 - accuracy: 0.8419 - val_loss: 0.4262 - val_accuracy: 0.8230\n",
            "Epoch 118/150\n",
            "313/313 [==============================] - 6s 19ms/step - loss: 0.3592 - accuracy: 0.8475 - val_loss: 0.4300 - val_accuracy: 0.8150\n",
            "Epoch 119/150\n",
            "313/313 [==============================] - 7s 23ms/step - loss: 0.3541 - accuracy: 0.8533 - val_loss: 0.4069 - val_accuracy: 0.8250\n",
            "Epoch 120/150\n",
            "313/313 [==============================] - 6s 19ms/step - loss: 0.3568 - accuracy: 0.8448 - val_loss: 0.4102 - val_accuracy: 0.8250\n",
            "Epoch 121/150\n",
            "313/313 [==============================] - 7s 24ms/step - loss: 0.3535 - accuracy: 0.8490 - val_loss: 0.4118 - val_accuracy: 0.8210\n",
            "Epoch 122/150\n",
            "313/313 [==============================] - 6s 19ms/step - loss: 0.3458 - accuracy: 0.8529 - val_loss: 0.4323 - val_accuracy: 0.8310\n",
            "Epoch 123/150\n",
            "313/313 [==============================] - 7s 23ms/step - loss: 0.3370 - accuracy: 0.8554 - val_loss: 0.4284 - val_accuracy: 0.8240\n",
            "Epoch 124/150\n",
            "313/313 [==============================] - 8s 25ms/step - loss: 0.3372 - accuracy: 0.8551 - val_loss: 0.4267 - val_accuracy: 0.8310\n",
            "Epoch 125/150\n",
            "313/313 [==============================] - 7s 23ms/step - loss: 0.3411 - accuracy: 0.8543 - val_loss: 0.4171 - val_accuracy: 0.8220\n",
            "Epoch 126/150\n",
            "313/313 [==============================] - 6s 19ms/step - loss: 0.3467 - accuracy: 0.8514 - val_loss: 0.3943 - val_accuracy: 0.8260\n",
            "Epoch 127/150\n",
            "313/313 [==============================] - 7s 22ms/step - loss: 0.3408 - accuracy: 0.8559 - val_loss: 0.4191 - val_accuracy: 0.8280\n",
            "Epoch 128/150\n",
            "313/313 [==============================] - 6s 20ms/step - loss: 0.3333 - accuracy: 0.8570 - val_loss: 0.4385 - val_accuracy: 0.8270\n",
            "Epoch 129/150\n",
            "313/313 [==============================] - 7s 21ms/step - loss: 0.3341 - accuracy: 0.8569 - val_loss: 0.4089 - val_accuracy: 0.8300\n",
            "Epoch 130/150\n",
            "313/313 [==============================] - 7s 21ms/step - loss: 0.3350 - accuracy: 0.8551 - val_loss: 0.4240 - val_accuracy: 0.8270\n",
            "Epoch 131/150\n",
            "313/313 [==============================] - 6s 21ms/step - loss: 0.3367 - accuracy: 0.8570 - val_loss: 0.4202 - val_accuracy: 0.8240\n",
            "Epoch 132/150\n",
            "313/313 [==============================] - 7s 22ms/step - loss: 0.3315 - accuracy: 0.8573 - val_loss: 0.4104 - val_accuracy: 0.8250\n",
            "Epoch 133/150\n",
            "313/313 [==============================] - 6s 19ms/step - loss: 0.3278 - accuracy: 0.8611 - val_loss: 0.4333 - val_accuracy: 0.8200\n",
            "Epoch 134/150\n",
            "313/313 [==============================] - 7s 23ms/step - loss: 0.3221 - accuracy: 0.8618 - val_loss: 0.4400 - val_accuracy: 0.8120\n",
            "Epoch 135/150\n",
            "313/313 [==============================] - 6s 19ms/step - loss: 0.3212 - accuracy: 0.8659 - val_loss: 0.4286 - val_accuracy: 0.8280\n",
            "Epoch 136/150\n",
            "313/313 [==============================] - 7s 24ms/step - loss: 0.3230 - accuracy: 0.8678 - val_loss: 0.4435 - val_accuracy: 0.8290\n",
            "Epoch 137/150\n",
            "313/313 [==============================] - 6s 19ms/step - loss: 0.3208 - accuracy: 0.8641 - val_loss: 0.4689 - val_accuracy: 0.8050\n",
            "Epoch 138/150\n",
            "313/313 [==============================] - 7s 23ms/step - loss: 0.3207 - accuracy: 0.8634 - val_loss: 0.4272 - val_accuracy: 0.8150\n",
            "Epoch 139/150\n",
            "313/313 [==============================] - 6s 19ms/step - loss: 0.3198 - accuracy: 0.8632 - val_loss: 0.4034 - val_accuracy: 0.8240\n",
            "Epoch 140/150\n",
            "313/313 [==============================] - 7s 24ms/step - loss: 0.3151 - accuracy: 0.8647 - val_loss: 0.4166 - val_accuracy: 0.8220\n",
            "Epoch 141/150\n",
            "313/313 [==============================] - 6s 19ms/step - loss: 0.3199 - accuracy: 0.8657 - val_loss: 0.4389 - val_accuracy: 0.8140\n",
            "Epoch 142/150\n",
            "313/313 [==============================] - 7s 23ms/step - loss: 0.3180 - accuracy: 0.8641 - val_loss: 0.4103 - val_accuracy: 0.8230\n",
            "Epoch 143/150\n",
            "313/313 [==============================] - 6s 19ms/step - loss: 0.3056 - accuracy: 0.8687 - val_loss: 0.4497 - val_accuracy: 0.8150\n",
            "Epoch 144/150\n",
            "313/313 [==============================] - 7s 23ms/step - loss: 0.3063 - accuracy: 0.8692 - val_loss: 0.4742 - val_accuracy: 0.8180\n",
            "Epoch 145/150\n",
            "313/313 [==============================] - 6s 19ms/step - loss: 0.3122 - accuracy: 0.8669 - val_loss: 0.4322 - val_accuracy: 0.8260\n",
            "Epoch 146/150\n",
            "313/313 [==============================] - 7s 22ms/step - loss: 0.3110 - accuracy: 0.8687 - val_loss: 0.4323 - val_accuracy: 0.8190\n",
            "Epoch 147/150\n",
            "313/313 [==============================] - 7s 21ms/step - loss: 0.3120 - accuracy: 0.8713 - val_loss: 0.4407 - val_accuracy: 0.8250\n",
            "Epoch 148/150\n",
            "313/313 [==============================] - 7s 21ms/step - loss: 0.3084 - accuracy: 0.8680 - val_loss: 0.4305 - val_accuracy: 0.8190\n",
            "Epoch 149/150\n",
            "313/313 [==============================] - 7s 21ms/step - loss: 0.2998 - accuracy: 0.8747 - val_loss: 0.4484 - val_accuracy: 0.8270\n",
            "Epoch 150/150\n",
            "313/313 [==============================] - 6s 19ms/step - loss: 0.3032 - accuracy: 0.8686 - val_loss: 0.4978 - val_accuracy: 0.8200\n"
          ]
        }
      ]
    },
    {
      "cell_type": "code",
      "source": [
        "print(history.history.keys())\n",
        "plt.plot(history.history['accuracy'])\n",
        "plt.plot(history.history['val_accuracy'])\n",
        "plt.title(\"Model Accuracy\")\n",
        "plt.ylabel(\"Accuracy\")\n",
        "plt.xlabel(\"epochs\")"
      ],
      "metadata": {
        "colab": {
          "base_uri": "https://localhost:8080/",
          "height": 507
        },
        "id": "Rnay7cUZsgz5",
        "outputId": "c9b484b9-2951-4719-fb49-f2d3b9ae0b58"
      },
      "execution_count": 27,
      "outputs": [
        {
          "output_type": "stream",
          "name": "stdout",
          "text": [
            "dict_keys(['loss', 'accuracy', 'val_loss', 'val_accuracy'])\n"
          ]
        },
        {
          "output_type": "execute_result",
          "data": {
            "text/plain": [
              "Text(0.5, 0, 'epochs')"
            ]
          },
          "metadata": {},
          "execution_count": 27
        },
        {
          "output_type": "display_data",
          "data": {
            "text/plain": [
              "<Figure size 640x480 with 1 Axes>"
            ],
            "image/png": "[encoded data removed]"
          },
          "metadata": {}
        }
      ]
    },
    {
      "cell_type": "code",
      "source": [
        "model.save(\"chatbot\")"
      ],
      "metadata": {
        "colab": {
          "base_uri": "https://localhost:8080/"
        },
        "id": "0pKZsJ4qwP8n",
        "outputId": "24b06f37-129f-4a82-85bd-bd51a637100a"
      },
      "execution_count": 28,
      "outputs": [
        {
          "output_type": "stream",
          "name": "stderr",
          "text": [
            "WARNING:absl:Found untraced functions such as _update_step_xla, lstm_cell_layer_call_fn, lstm_cell_layer_call_and_return_conditional_losses while saving (showing 3 of 3). These functions will not be directly callable after loading.\n"
          ]
        }
      ]
    },
    {
      "cell_type": "code",
      "source": [
        "model.load_weights(\"/content/chatbot\")\n",
        "predict_result=model.predict(([inputs_test,query_test]))\n",
        "val_max=np.argmax(predict_result[0])\n",
        "for key,val in tokenizer.word_index.items():\n",
        "  if val==val_max:\n",
        "    k=key\n",
        "print(\"predicted Answer is \",k)\n",
        "print(\"Probability of certainity \",predict_result[0][val_max])"
      ],
      "metadata": {
        "colab": {
          "base_uri": "https://localhost:8080/"
        },
        "id": "ySwybWwswq_D",
        "outputId": "bf30d635-4818-4ee6-f26d-ab800a63ef58"
      },
      "execution_count": 29,
      "outputs": [
        {
          "output_type": "stream",
          "name": "stdout",
          "text": [
            "32/32 [==============================] - 1s 5ms/step\n",
            "predicted Answer is  no\n",
            "Probability of certainity  0.9851777\n"
          ]
        }
      ]
    },
    {
      "cell_type": "code",
      "source": [
        "story=\"John is in the hallway . Sandra went to office .\"\n",
        "story.split()\n",
        "my_q=\"Is John in the office ?\"\n",
        "my_q.split()\n",
        "mydata=[(story.split(),my_q.split(),'no')]\n",
        "my_story,my_que,my_ans=vectorize_stry(mydata)\n",
        "pred_results=model.predict(([my_story,my_que]))\n",
        "val_max=np.argmax(predict_result[0])\n",
        "for key,val in tokenizer.word_index.items():\n",
        "  if val==val_max:\n",
        "    k=key\n",
        "print(\"predicted Answer is \",k)\n",
        "print(\"Probability of certainity \",predict_result[0][val_max])"
      ],
      "metadata": {
        "colab": {
          "base_uri": "https://localhost:8080/"
        },
        "id": "bPbrWg1ky4my",
        "outputId": "e4e1fd98-0753-4b0a-d73f-ab7a54ea1146"
      },
      "execution_count": 30,
      "outputs": [
        {
          "output_type": "stream",
          "name": "stdout",
          "text": [
            "1/1 [==============================] - 0s 26ms/step\n",
            "predicted Answer is  no\n",
            "Probability of certainity  0.9851777\n"
          ]
        }
      ]
    },
    {
      "cell_type": "code",
      "source": [],
      "metadata": {
        "id": "LCDSOY-A-KG1"
      },
      "execution_count": null,
      "outputs": []
    }
  ]
}